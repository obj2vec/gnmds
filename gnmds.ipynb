{
 "cells": [
  {
   "cell_type": "markdown",
   "metadata": {},
   "source": [
    "## 1 Загрузка данных"
   ]
  },
  {
   "cell_type": "code",
   "execution_count": 8,
   "metadata": {
    "scrolled": true
   },
   "outputs": [],
   "source": [
    "import random\n",
    "\n",
    "random.seed(42)"
   ]
  },
  {
   "cell_type": "code",
   "execution_count": 12,
   "metadata": {},
   "outputs": [
    {
     "name": "stdout",
     "output_type": "stream",
     "text": [
      "File exist\n"
     ]
    }
   ],
   "source": [
    "filename = \"goods_pool.npy'\n",
    "\n",
    "if os.path.exists(filename):\n",
    "    print(\"File exist\")\n",
    "    goods_pool = np.load(filename)"
   ]
  },
  {
   "cell_type": "code",
   "execution_count": 14,
   "metadata": {
    "scrolled": true
   },
   "outputs": [
    {
     "data": {
      "text/plain": [
       "272746"
      ]
     },
     "execution_count": 14,
     "metadata": {},
     "output_type": "execute_result"
    }
   ],
   "source": [
    "#https://stackoverflow.com/questions/47117569/how-to-get-word2index-from-gensim\n",
    "'''\n",
    "word = \"whatever\"  # for any word in model\n",
    "i = model.vocab[word].index\n",
    "model.index2word[i] == word  # will be true\n",
    "'''\n",
    "\n",
    "goods_vocab = {}\n",
    "goods_index = {}\n",
    "counter = 0\n",
    "goods_pool_indexed = []\n",
    "gvec = []\n",
    "goods_reverse_index = []\n",
    "\n",
    "for i in goods_pool:\n",
    "    for w in i:\n",
    "        if w not in goods_vocab:\n",
    "            goods_vocab[w] = model1.index_to_key[w]\n",
    "            goods_index[w] = counter\n",
    "            goods_reverse_index.append(w) # для этапа расширения newquads\n",
    "            counter += 1\n",
    "            gvec.append(model1[w]) # для этапа обучения после расширения newquads\n",
    "\n",
    "    goods_pool_indexed.append([goods_index[i[0]],\n",
    "                               goods_index[i[1]],\n",
    "                               goods_index[i[2]],\n",
    "                               goods_index[i[3]]                               \n",
    "                               ])\n",
    "\n",
    "len(goods_vocab) #len(qvec)"
   ]
  },
  {
   "cell_type": "markdown",
   "metadata": {},
   "source": [
    "## 2 Построение представлений для набора четвёрок"
   ]
  },
  {
   "cell_type": "code",
   "execution_count": 24,
   "metadata": {
    "scrolled": true
   },
   "outputs": [
    {
     "name": "stdout",
     "output_type": "stream",
     "text": [
      "cuda:1\n"
     ]
    }
   ],
   "source": [
    "import tqdm\n",
    "import torch\n",
    "import torch.nn as nn\n",
    "import torch.nn.functional as F\n",
    "\n",
    "import numpy as np\n",
    "import copy\n",
    "\n",
    "device = torch.device(\"cuda:1\" if torch.cuda.is_available() else \"cpu\")\n",
    "print(device)"
   ]
  },
  {
   "cell_type": "code",
   "execution_count": 25,
   "metadata": {
    "scrolled": true
   },
   "outputs": [],
   "source": [
    "class PletNet(nn.Module):\n",
    "    def __init__(self, p):\n",
    "        super().__init__()\n",
    "        self.linear = nn.Linear(p, p)#, bias=False)\n",
    "    \n",
    "    def forward(self, v):\n",
    "        return self.linear(v)\n",
    "    \n",
    "    def inference(self, v):\n",
    "        with torch.no_grad():\n",
    "            #return self.linear(torch.from_numpy(v).float())\n",
    "            return self.linear(v)"
   ]
  },
  {
   "cell_type": "code",
   "execution_count": 26,
   "metadata": {
    "scrolled": true
   },
   "outputs": [],
   "source": [
    "class QuadrupletLoss(nn.Module):\n",
    "    def __init__(self, margin):\n",
    "        super().__init__()\n",
    "        self.margin = margin\n",
    "        self.cos = torch.nn.CosineSimilarity(dim=1, eps=1e-6)\n",
    "    \n",
    "    def forward(self, batch_i, batch_j, batch_k, batch_l, size_average=True):\n",
    "        d_ij = 1 - self.cos(batch_i, batch_j)\n",
    "        d_kl = 1 - self.cos(batch_k, batch_l)\n",
    "        losses = F.relu(d_ij - d_kl + self.margin)\n",
    "        \n",
    "        res = losses.sum() # можно ли сделать лосс число положительных разностей (дискретный лосс) ?\n",
    "        \n",
    "        #losses[losses > 0] = 1\n",
    "        \n",
    "        #print(\"loss int: \", int(losses.sum()))\n",
    "        return res #losses.mean() if size_average else losses.sum()"
   ]
  },
  {
   "cell_type": "code",
   "execution_count": 27,
   "metadata": {
    "scrolled": true
   },
   "outputs": [],
   "source": [
    "#есть встроенный в torch(может работать быстрее)\n",
    "\n",
    "class TripletLoss(nn.Module):\n",
    "    def __init__(self, margin):\n",
    "        super().__init__()\n",
    "        self.margin = margin\n",
    "        self.cos = torch.nn.CosineSimilarity(dim=1, eps=1e-6)\n",
    "    \n",
    "    def forward(self, batch_i, batch_j, batch_k, batch_l, size_average=True):\n",
    "        d_ij = 1 - self.cos(batch_i, batch_j)\n",
    "        d_kl = 1 - self.cos(batch_k, batch_l)\n",
    "        losses = F.relu(d_ij - d_kl + self.margin)\n",
    "        \n",
    "        res = losses.sum()\n",
    "                \n",
    "        return res"
   ]
  },
  {
   "cell_type": "code",
   "execution_count": 28,
   "metadata": {
    "scrolled": true
   },
   "outputs": [],
   "source": [
    "def hand_checker(vec, gquads, on_gpu = False):\n",
    "\n",
    "    a,b,c,d = list(zip(*gquads))\n",
    "    \n",
    "    if on_gpu:\n",
    "        batch_i = torch.index_select(vec, 0, torch.tensor(a).to(device))\n",
    "        batch_j = torch.index_select(vec, 0, torch.tensor(b).to(device))\n",
    "        batch_k = torch.index_select(vec, 0, torch.tensor(c).to(device))\n",
    "        batch_l = torch.index_select(vec, 0, torch.tensor(d).to(device))\n",
    "    else:\n",
    "        batch_i = torch.index_select(vec, 0, torch.tensor(a))\n",
    "        batch_j = torch.index_select(vec, 0, torch.tensor(b))\n",
    "        batch_k = torch.index_select(vec, 0, torch.tensor(c))\n",
    "        batch_l = torch.index_select(vec, 0, torch.tensor(d))\n",
    "    \n",
    "    cos = torch.nn.CosineSimilarity(dim=1, eps=1e-6)\n",
    "    d_ij = 1 - cos(batch_i, batch_j)\n",
    "    d_kl = 1 - cos(batch_k, batch_l)\n",
    "\n",
    "    diff = d_ij - d_kl\n",
    "    diff[diff > 0] = 0\n",
    "    diff[diff < 0] = 1\n",
    "\n",
    "    counter = torch.sum(diff)\n",
    "    #print(counter)\n",
    "    return int(counter)#float(counter / len(gquads))"
   ]
  },
  {
   "cell_type": "code",
   "execution_count": 29,
   "metadata": {
    "scrolled": true
   },
   "outputs": [],
   "source": [
    "def fit_plet(num_epochs, model, loss_fn, opt, vec, a, b, c, d, batches = False):\n",
    "    \n",
    "    for epoch in tqdm.tqdm(range(num_epochs)):\n",
    "    \n",
    "        pred = model(vec)\n",
    "        \n",
    "        if batches:\n",
    "            ind = torch.tensor(random.sample(range(500000), 100000)).to(device)\n",
    "            aa = torch.index_select(a, 0, ind)\n",
    "            bb = torch.index_select(b, 0, ind)\n",
    "            cc = torch.index_select(c, 0, ind)\n",
    "            dd = torch.index_select(d, 0, ind)\n",
    "        else:\n",
    "            aa = a\n",
    "            bb = b\n",
    "            cc = c\n",
    "            dd = d\n",
    "             \n",
    "        loss = loss_fn(\n",
    "                torch.index_select(pred, 0, aa),\n",
    "                torch.index_select(pred, 0, bb),\n",
    "                torch.index_select(pred, 0, cc),\n",
    "                torch.index_select(pred, 0, dd)\n",
    "               )\n",
    "        #print(loss)        \n",
    "        \n",
    "        loss.backward()\n",
    "        opt.step()\n",
    "        opt.zero_grad()\n",
    "        \n",
    "        #if epoch % 200 == 0:\n",
    "        #    for g in opt.param_groups:\n",
    "        #        g['lr'] *= 0.1\n",
    "        \n",
    "        print('Epoch [{}/{}], Loss: {:.4f}'.format(epoch+1, num_epochs, loss.item()))\n",
    "\n",
    "    return model.inference(vec.to(device)).cpu()###new_vec"
   ]
  },
  {
   "cell_type": "code",
   "execution_count": 30,
   "metadata": {
    "scrolled": true
   },
   "outputs": [],
   "source": [
    "model = PletNet(300).to(device)\n",
    "opt = torch.optim.Adam(model.parameters(), lr=1e-3)\n",
    "quadruplet_loss = TripletLoss(0.1)"
   ]
  },
  {
   "cell_type": "code",
   "execution_count": 31,
   "metadata": {
    "scrolled": true
   },
   "outputs": [
    {
     "data": {
      "text/plain": [
       "249550"
      ]
     },
     "execution_count": 31,
     "metadata": {},
     "output_type": "execute_result"
    }
   ],
   "source": [
    "vec = torch.empty(len(goods_vocab), 300)\n",
    "nn.init.xavier_normal_(vec)\n",
    "hand_checker(vec, goods_pool_indexed)"
   ]
  },
  {
   "cell_type": "code",
   "execution_count": 32,
   "metadata": {
    "scrolled": true
   },
   "outputs": [],
   "source": [
    "a,b,c,d = list(zip(*goods_pool_indexed))\n",
    "#a,b,c,d = list(a), list(b), list(c), list(d)"
   ]
  },
  {
   "cell_type": "code",
   "execution_count": 33,
   "metadata": {
    "scrolled": true
   },
   "outputs": [],
   "source": [
    "# попытки решить проблему медленной сходимости на 150000\n",
    "# больше эпох\n",
    "# меньше lr\n",
    "# батчи\n",
    "# другая инициализация(xavier)"
   ]
  },
  {
   "cell_type": "code",
   "execution_count": 34,
   "metadata": {},
   "outputs": [
    {
     "name": "stdout",
     "output_type": "stream",
     "text": [
      "0.001\n"
     ]
    }
   ],
   "source": [
    "for g in opt.param_groups:\n",
    "    print(g['lr'])"
   ]
  },
  {
   "cell_type": "code",
   "execution_count": 35,
   "metadata": {
    "scrolled": true
   },
   "outputs": [
    {
     "name": "stderr",
     "output_type": "stream",
     "text": [
      "  1%|          | 2/300 [00:00<00:27, 10.65it/s]"
     ]
    },
    {
     "name": "stdout",
     "output_type": "stream",
     "text": [
      "Epoch [1/300], Loss: 49999.7734\n",
      "Epoch [2/300], Loss: 49998.0820\n",
      "Epoch [3/300], Loss: 49996.2422\n"
     ]
    },
    {
     "name": "stderr",
     "output_type": "stream",
     "text": [
      "  2%|▏         | 6/300 [00:00<00:26, 11.04it/s]"
     ]
    },
    {
     "name": "stdout",
     "output_type": "stream",
     "text": [
      "Epoch [4/300], Loss: 49994.2188\n",
      "Epoch [5/300], Loss: 49991.9766\n",
      "Epoch [6/300], Loss: 49989.4922\n"
     ]
    },
    {
     "name": "stderr",
     "output_type": "stream",
     "text": [
      "\r",
      "  3%|▎         | 8/300 [00:00<00:26, 11.11it/s]"
     ]
    },
    {
     "name": "stdout",
     "output_type": "stream",
     "text": [
      "Epoch [7/300], Loss: 49986.7188\n",
      "Epoch [8/300], Loss: 49983.6172\n",
      "Epoch [9/300], Loss: 49980.1328\n"
     ]
    },
    {
     "name": "stderr",
     "output_type": "stream",
     "text": [
      "  4%|▍         | 12/300 [00:01<00:25, 11.19it/s]"
     ]
    },
    {
     "name": "stdout",
     "output_type": "stream",
     "text": [
      "Epoch [10/300], Loss: 49976.1953\n",
      "Epoch [11/300], Loss: 49971.7461\n",
      "Epoch [12/300], Loss: 49966.6953\n"
     ]
    },
    {
     "name": "stderr",
     "output_type": "stream",
     "text": [
      "\r",
      "  5%|▍         | 14/300 [00:01<00:25, 11.21it/s]"
     ]
    },
    {
     "name": "stdout",
     "output_type": "stream",
     "text": [
      "Epoch [13/300], Loss: 49960.9375\n",
      "Epoch [14/300], Loss: 49954.3594\n",
      "Epoch [15/300], Loss: 49946.8047\n"
     ]
    },
    {
     "name": "stderr",
     "output_type": "stream",
     "text": [
      "  6%|▌         | 18/300 [00:01<00:25, 11.23it/s]"
     ]
    },
    {
     "name": "stdout",
     "output_type": "stream",
     "text": [
      "Epoch [16/300], Loss: 49938.1133\n",
      "Epoch [17/300], Loss: 49928.0742\n",
      "Epoch [18/300], Loss: 49916.4375\n"
     ]
    },
    {
     "name": "stderr",
     "output_type": "stream",
     "text": [
      "\r",
      "  7%|▋         | 20/300 [00:01<00:24, 11.23it/s]"
     ]
    },
    {
     "name": "stdout",
     "output_type": "stream",
     "text": [
      "Epoch [19/300], Loss: 49902.9219\n",
      "Epoch [20/300], Loss: 49887.1445\n",
      "Epoch [21/300], Loss: 49868.6445\n"
     ]
    },
    {
     "name": "stderr",
     "output_type": "stream",
     "text": [
      "  8%|▊         | 24/300 [00:02<00:24, 11.24it/s]"
     ]
    },
    {
     "name": "stdout",
     "output_type": "stream",
     "text": [
      "Epoch [22/300], Loss: 49846.8594\n",
      "Epoch [23/300], Loss: 49821.0859\n",
      "Epoch [24/300], Loss: 49790.4922\n"
     ]
    },
    {
     "name": "stderr",
     "output_type": "stream",
     "text": [
      "\r",
      "  9%|▊         | 26/300 [00:02<00:24, 11.24it/s]"
     ]
    },
    {
     "name": "stdout",
     "output_type": "stream",
     "text": [
      "Epoch [25/300], Loss: 49754.0547\n",
      "Epoch [26/300], Loss: 49710.5117\n",
      "Epoch [27/300], Loss: 49658.2578\n"
     ]
    },
    {
     "name": "stderr",
     "output_type": "stream",
     "text": [
      " 10%|█         | 30/300 [00:02<00:24, 11.25it/s]"
     ]
    },
    {
     "name": "stdout",
     "output_type": "stream",
     "text": [
      "Epoch [28/300], Loss: 49595.2734\n",
      "Epoch [29/300], Loss: 49519.0078\n",
      "Epoch [30/300], Loss: 49426.3047\n"
     ]
    },
    {
     "name": "stderr",
     "output_type": "stream",
     "text": [
      "\r",
      " 11%|█         | 32/300 [00:02<00:23, 11.24it/s]"
     ]
    },
    {
     "name": "stdout",
     "output_type": "stream",
     "text": [
      "Epoch [31/300], Loss: 49313.2539\n",
      "Epoch [32/300], Loss: 49174.7188\n",
      "Epoch [33/300], Loss: 49003.7500\n"
     ]
    },
    {
     "name": "stderr",
     "output_type": "stream",
     "text": [
      " 12%|█▏        | 36/300 [00:03<00:23, 11.22it/s]"
     ]
    },
    {
     "name": "stdout",
     "output_type": "stream",
     "text": [
      "Epoch [34/300], Loss: 48791.0312\n",
      "Epoch [35/300], Loss: 48525.1836\n",
      "Epoch [36/300], Loss: 48192.6406\n"
     ]
    },
    {
     "name": "stderr",
     "output_type": "stream",
     "text": [
      "\r",
      " 13%|█▎        | 38/300 [00:03<00:23, 11.23it/s]"
     ]
    },
    {
     "name": "stdout",
     "output_type": "stream",
     "text": [
      "Epoch [37/300], Loss: 47780.0938\n",
      "Epoch [38/300], Loss: 47281.9258\n",
      "Epoch [39/300], Loss: 46722.9922\n"
     ]
    },
    {
     "name": "stderr",
     "output_type": "stream",
     "text": [
      " 14%|█▍        | 42/300 [00:03<00:22, 11.24it/s]"
     ]
    },
    {
     "name": "stdout",
     "output_type": "stream",
     "text": [
      "Epoch [40/300], Loss: 46195.1797\n",
      "Epoch [41/300], Loss: 45860.9375\n",
      "Epoch [42/300], Loss: 45830.2500\n"
     ]
    },
    {
     "name": "stderr",
     "output_type": "stream",
     "text": [
      "\r",
      " 15%|█▍        | 44/300 [00:03<00:22, 11.24it/s]"
     ]
    },
    {
     "name": "stdout",
     "output_type": "stream",
     "text": [
      "Epoch [43/300], Loss: 45862.4102\n",
      "Epoch [44/300], Loss: 45701.0156\n",
      "Epoch [45/300], Loss: 45596.1133\n"
     ]
    },
    {
     "name": "stderr",
     "output_type": "stream",
     "text": [
      " 16%|█▌        | 48/300 [00:04<00:22, 11.24it/s]"
     ]
    },
    {
     "name": "stdout",
     "output_type": "stream",
     "text": [
      "Epoch [46/300], Loss: 45640.3203\n",
      "Epoch [47/300], Loss: 45556.3516\n",
      "Epoch [48/300], Loss: 45392.5664\n"
     ]
    },
    {
     "name": "stderr",
     "output_type": "stream",
     "text": [
      "\r",
      " 17%|█▋        | 50/300 [00:04<00:22, 11.24it/s]"
     ]
    },
    {
     "name": "stdout",
     "output_type": "stream",
     "text": [
      "Epoch [49/300], Loss: 45296.8516\n",
      "Epoch [50/300], Loss: 45282.0859\n",
      "Epoch [51/300], Loss: 45207.8203\n"
     ]
    },
    {
     "name": "stderr",
     "output_type": "stream",
     "text": [
      " 18%|█▊        | 54/300 [00:04<00:21, 11.23it/s]"
     ]
    },
    {
     "name": "stdout",
     "output_type": "stream",
     "text": [
      "Epoch [52/300], Loss: 45101.4102\n",
      "Epoch [53/300], Loss: 45057.3438\n",
      "Epoch [54/300], Loss: 45022.2891\n"
     ]
    },
    {
     "name": "stderr",
     "output_type": "stream",
     "text": [
      "\r",
      " 19%|█▊        | 56/300 [00:04<00:21, 11.22it/s]"
     ]
    },
    {
     "name": "stdout",
     "output_type": "stream",
     "text": [
      "Epoch [55/300], Loss: 44945.4062\n",
      "Epoch [56/300], Loss: 44865.8984\n",
      "Epoch [57/300], Loss: 44827.5312\n"
     ]
    },
    {
     "name": "stderr",
     "output_type": "stream",
     "text": [
      " 20%|██        | 60/300 [00:05<00:21, 11.22it/s]"
     ]
    },
    {
     "name": "stdout",
     "output_type": "stream",
     "text": [
      "Epoch [58/300], Loss: 44797.2891\n",
      "Epoch [59/300], Loss: 44738.5156\n",
      "Epoch [60/300], Loss: 44683.6875\n"
     ]
    },
    {
     "name": "stderr",
     "output_type": "stream",
     "text": [
      "\r",
      " 21%|██        | 62/300 [00:05<00:21, 11.23it/s]"
     ]
    },
    {
     "name": "stdout",
     "output_type": "stream",
     "text": [
      "Epoch [61/300], Loss: 44653.7148\n",
      "Epoch [62/300], Loss: 44622.1250\n",
      "Epoch [63/300], Loss: 44573.9570\n"
     ]
    },
    {
     "name": "stderr",
     "output_type": "stream",
     "text": [
      "\r",
      " 21%|██▏       | 64/300 [00:05<00:21, 11.23it/s]"
     ]
    },
    {
     "name": "stdout",
     "output_type": "stream",
     "text": [
      "Epoch [64/300], Loss: 44531.1953\n",
      "Epoch [65/300], Loss: 44505.3828\n"
     ]
    },
    {
     "name": "stderr",
     "output_type": "stream",
     "text": [
      " 23%|██▎       | 68/300 [00:06<00:22, 10.51it/s]"
     ]
    },
    {
     "name": "stdout",
     "output_type": "stream",
     "text": [
      "Epoch [66/300], Loss: 44476.3320\n",
      "Epoch [67/300], Loss: 44438.4453\n",
      "Epoch [68/300], Loss: 44408.9180\n"
     ]
    },
    {
     "name": "stderr",
     "output_type": "stream",
     "text": [
      "\r",
      " 23%|██▎       | 70/300 [00:06<00:21, 10.71it/s]"
     ]
    },
    {
     "name": "stdout",
     "output_type": "stream",
     "text": [
      "Epoch [69/300], Loss: 44387.3164\n",
      "Epoch [70/300], Loss: 44360.5781\n",
      "Epoch [71/300], Loss: 44331.7031\n"
     ]
    },
    {
     "name": "stderr",
     "output_type": "stream",
     "text": [
      " 25%|██▍       | 74/300 [00:06<00:20, 10.96it/s]"
     ]
    },
    {
     "name": "stdout",
     "output_type": "stream",
     "text": [
      "Epoch [72/300], Loss: 44310.7188\n",
      "Epoch [73/300], Loss: 44292.2188\n",
      "Epoch [74/300], Loss: 44268.8086\n"
     ]
    },
    {
     "name": "stderr",
     "output_type": "stream",
     "text": [
      "\r",
      " 25%|██▌       | 76/300 [00:06<00:20, 11.05it/s]"
     ]
    },
    {
     "name": "stdout",
     "output_type": "stream",
     "text": [
      "Epoch [75/300], Loss: 44247.3047\n",
      "Epoch [76/300], Loss: 44231.0352\n",
      "Epoch [77/300], Loss: 44213.4609\n"
     ]
    },
    {
     "name": "stderr",
     "output_type": "stream",
     "text": [
      " 27%|██▋       | 80/300 [00:07<00:19, 11.13it/s]"
     ]
    },
    {
     "name": "stdout",
     "output_type": "stream",
     "text": [
      "Epoch [78/300], Loss: 44194.9961\n",
      "Epoch [79/300], Loss: 44180.5703\n",
      "Epoch [80/300], Loss: 44166.4609\n"
     ]
    },
    {
     "name": "stderr",
     "output_type": "stream",
     "text": [
      "\r",
      " 27%|██▋       | 82/300 [00:07<00:19, 11.16it/s]"
     ]
    },
    {
     "name": "stdout",
     "output_type": "stream",
     "text": [
      "Epoch [81/300], Loss: 44150.7891\n",
      "Epoch [82/300], Loss: 44137.8047\n",
      "Epoch [83/300], Loss: 44126.0234\n"
     ]
    },
    {
     "name": "stderr",
     "output_type": "stream",
     "text": [
      " 29%|██▊       | 86/300 [00:07<00:19, 11.19it/s]"
     ]
    },
    {
     "name": "stdout",
     "output_type": "stream",
     "text": [
      "Epoch [84/300], Loss: 44113.1328\n",
      "Epoch [85/300], Loss: 44102.0586\n",
      "Epoch [86/300], Loss: 44091.8945\n"
     ]
    },
    {
     "name": "stderr",
     "output_type": "stream",
     "text": [
      "\r",
      " 29%|██▉       | 88/300 [00:07<00:18, 11.21it/s]"
     ]
    },
    {
     "name": "stdout",
     "output_type": "stream",
     "text": [
      "Epoch [87/300], Loss: 44081.2461\n",
      "Epoch [88/300], Loss: 44072.0703\n",
      "Epoch [89/300], Loss: 44063.0625\n"
     ]
    },
    {
     "name": "stderr",
     "output_type": "stream",
     "text": [
      " 31%|███       | 92/300 [00:08<00:18, 11.22it/s]"
     ]
    },
    {
     "name": "stdout",
     "output_type": "stream",
     "text": [
      "Epoch [90/300], Loss: 44054.1094\n",
      "Epoch [91/300], Loss: 44046.4336\n",
      "Epoch [92/300], Loss: 44038.5977\n"
     ]
    },
    {
     "name": "stderr",
     "output_type": "stream",
     "text": [
      "\r",
      " 31%|███▏      | 94/300 [00:08<00:18, 11.22it/s]"
     ]
    },
    {
     "name": "stdout",
     "output_type": "stream",
     "text": [
      "Epoch [93/300], Loss: 44031.3125\n",
      "Epoch [94/300], Loss: 44024.6875\n",
      "Epoch [95/300], Loss: 44018.1719\n"
     ]
    },
    {
     "name": "stderr",
     "output_type": "stream",
     "text": [
      " 33%|███▎      | 98/300 [00:08<00:17, 11.22it/s]"
     ]
    },
    {
     "name": "stdout",
     "output_type": "stream",
     "text": [
      "Epoch [96/300], Loss: 44012.2891\n",
      "Epoch [97/300], Loss: 44006.3906\n",
      "Epoch [98/300], Loss: 44001.1016\n"
     ]
    },
    {
     "name": "stderr",
     "output_type": "stream",
     "text": [
      "\r",
      " 33%|███▎      | 100/300 [00:08<00:17, 11.23it/s]"
     ]
    },
    {
     "name": "stdout",
     "output_type": "stream",
     "text": [
      "Epoch [99/300], Loss: 43995.8594\n",
      "Epoch [100/300], Loss: 43991.1094\n",
      "Epoch [101/300], Loss: 43986.4336\n"
     ]
    },
    {
     "name": "stderr",
     "output_type": "stream",
     "text": [
      " 35%|███▍      | 104/300 [00:09<00:17, 11.23it/s]"
     ]
    },
    {
     "name": "stdout",
     "output_type": "stream",
     "text": [
      "Epoch [102/300], Loss: 43982.1133\n",
      "Epoch [103/300], Loss: 43978.0000\n",
      "Epoch [104/300], Loss: 43974.1211\n"
     ]
    },
    {
     "name": "stderr",
     "output_type": "stream",
     "text": [
      "\r",
      " 35%|███▌      | 106/300 [00:09<00:17, 11.23it/s]"
     ]
    },
    {
     "name": "stdout",
     "output_type": "stream",
     "text": [
      "Epoch [105/300], Loss: 43970.4531\n",
      "Epoch [106/300], Loss: 43966.9492\n",
      "Epoch [107/300], Loss: 43963.6250\n"
     ]
    },
    {
     "name": "stderr",
     "output_type": "stream",
     "text": [
      " 37%|███▋      | 110/300 [00:09<00:16, 11.23it/s]"
     ]
    },
    {
     "name": "stdout",
     "output_type": "stream",
     "text": [
      "Epoch [108/300], Loss: 43960.4727\n",
      "Epoch [109/300], Loss: 43957.4766\n",
      "Epoch [110/300], Loss: 43954.6484\n"
     ]
    },
    {
     "name": "stderr",
     "output_type": "stream",
     "text": [
      "\r",
      " 37%|███▋      | 112/300 [00:10<00:16, 11.22it/s]"
     ]
    },
    {
     "name": "stdout",
     "output_type": "stream",
     "text": [
      "Epoch [111/300], Loss: 43951.9453\n",
      "Epoch [112/300], Loss: 43949.3984\n",
      "Epoch [113/300], Loss: 43946.9766\n"
     ]
    },
    {
     "name": "stderr",
     "output_type": "stream",
     "text": [
      " 39%|███▊      | 116/300 [00:10<00:16, 11.23it/s]"
     ]
    },
    {
     "name": "stdout",
     "output_type": "stream",
     "text": [
      "Epoch [114/300], Loss: 43944.6523\n",
      "Epoch [115/300], Loss: 43942.4844\n",
      "Epoch [116/300], Loss: 43940.4453\n"
     ]
    },
    {
     "name": "stderr",
     "output_type": "stream",
     "text": [
      "\r",
      " 39%|███▉      | 118/300 [00:10<00:16, 11.23it/s]"
     ]
    },
    {
     "name": "stdout",
     "output_type": "stream",
     "text": [
      "Epoch [117/300], Loss: 43938.5000\n",
      "Epoch [118/300], Loss: 43936.6562\n",
      "Epoch [119/300], Loss: 43935.0000\n"
     ]
    },
    {
     "name": "stderr",
     "output_type": "stream",
     "text": [
      " 41%|████      | 122/300 [00:10<00:15, 11.23it/s]"
     ]
    },
    {
     "name": "stdout",
     "output_type": "stream",
     "text": [
      "Epoch [120/300], Loss: 43933.6289\n",
      "Epoch [121/300], Loss: 43932.6719\n",
      "Epoch [122/300], Loss: 43931.5781\n"
     ]
    },
    {
     "name": "stderr",
     "output_type": "stream",
     "text": [
      "\r",
      " 41%|████▏     | 124/300 [00:11<00:15, 11.24it/s]"
     ]
    },
    {
     "name": "stdout",
     "output_type": "stream",
     "text": [
      "Epoch [123/300], Loss: 43929.8672\n",
      "Epoch [124/300], Loss: 43927.8906\n",
      "Epoch [125/300], Loss: 43926.4609\n"
     ]
    },
    {
     "name": "stderr",
     "output_type": "stream",
     "text": [
      " 43%|████▎     | 128/300 [00:11<00:15, 11.24it/s]"
     ]
    },
    {
     "name": "stdout",
     "output_type": "stream",
     "text": [
      "Epoch [126/300], Loss: 43925.5312\n",
      "Epoch [127/300], Loss: 43925.2031\n",
      "Epoch [128/300], Loss: 43925.4688\n"
     ]
    },
    {
     "name": "stderr",
     "output_type": "stream",
     "text": [
      "\r",
      " 43%|████▎     | 130/300 [00:11<00:15, 11.23it/s]"
     ]
    },
    {
     "name": "stdout",
     "output_type": "stream",
     "text": [
      "Epoch [129/300], Loss: 43923.8984\n",
      "Epoch [130/300], Loss: 43921.7539\n",
      "Epoch [131/300], Loss: 43920.2734\n"
     ]
    },
    {
     "name": "stderr",
     "output_type": "stream",
     "text": [
      " 45%|████▍     | 134/300 [00:12<00:14, 11.23it/s]"
     ]
    },
    {
     "name": "stdout",
     "output_type": "stream",
     "text": [
      "Epoch [132/300], Loss: 43919.5078\n",
      "Epoch [133/300], Loss: 43919.4531\n",
      "Epoch [134/300], Loss: 43920.5000\n"
     ]
    },
    {
     "name": "stderr",
     "output_type": "stream",
     "text": [
      "\r",
      " 45%|████▌     | 136/300 [00:12<00:14, 11.24it/s]"
     ]
    },
    {
     "name": "stdout",
     "output_type": "stream",
     "text": [
      "Epoch [135/300], Loss: 43920.2227\n",
      "Epoch [136/300], Loss: 43917.3906\n",
      "Epoch [137/300], Loss: 43915.9609\n"
     ]
    },
    {
     "name": "stderr",
     "output_type": "stream",
     "text": [
      " 47%|████▋     | 140/300 [00:12<00:14, 11.24it/s]"
     ]
    },
    {
     "name": "stdout",
     "output_type": "stream",
     "text": [
      "Epoch [138/300], Loss: 43915.6953\n",
      "Epoch [139/300], Loss: 43916.0156\n",
      "Epoch [140/300], Loss: 43916.8281\n"
     ]
    },
    {
     "name": "stderr",
     "output_type": "stream",
     "text": [
      "\r",
      " 47%|████▋     | 142/300 [00:12<00:14, 11.23it/s]"
     ]
    },
    {
     "name": "stdout",
     "output_type": "stream",
     "text": [
      "Epoch [141/300], Loss: 43914.8789\n",
      "Epoch [142/300], Loss: 43913.2109\n",
      "Epoch [143/300], Loss: 43912.3672\n"
     ]
    },
    {
     "name": "stderr",
     "output_type": "stream",
     "text": [
      " 49%|████▊     | 146/300 [00:13<00:13, 11.24it/s]"
     ]
    },
    {
     "name": "stdout",
     "output_type": "stream",
     "text": [
      "Epoch [144/300], Loss: 43912.1953\n",
      "Epoch [145/300], Loss: 43912.4102\n",
      "Epoch [146/300], Loss: 43913.8047\n"
     ]
    },
    {
     "name": "stderr",
     "output_type": "stream",
     "text": [
      "\r",
      " 49%|████▉     | 148/300 [00:13<00:13, 11.24it/s]"
     ]
    },
    {
     "name": "stdout",
     "output_type": "stream",
     "text": [
      "Epoch [147/300], Loss: 43915.0039\n",
      "Epoch [148/300], Loss: 43911.5625\n",
      "Epoch [149/300], Loss: 43910.1641\n"
     ]
    },
    {
     "name": "stderr",
     "output_type": "stream",
     "text": [
      " 51%|█████     | 152/300 [00:13<00:13, 11.24it/s]"
     ]
    },
    {
     "name": "stdout",
     "output_type": "stream",
     "text": [
      "Epoch [150/300], Loss: 43909.9570\n",
      "Epoch [151/300], Loss: 43910.7227\n",
      "Epoch [152/300], Loss: 43912.2422\n"
     ]
    },
    {
     "name": "stderr",
     "output_type": "stream",
     "text": [
      "\r",
      " 51%|█████▏    | 154/300 [00:13<00:12, 11.25it/s]"
     ]
    },
    {
     "name": "stdout",
     "output_type": "stream",
     "text": [
      "Epoch [153/300], Loss: 43910.3984\n",
      "Epoch [154/300], Loss: 43908.7344\n",
      "Epoch [155/300], Loss: 43907.9492\n"
     ]
    },
    {
     "name": "stderr",
     "output_type": "stream",
     "text": [
      " 53%|█████▎    | 158/300 [00:14<00:12, 11.24it/s]"
     ]
    },
    {
     "name": "stdout",
     "output_type": "stream",
     "text": [
      "Epoch [156/300], Loss: 43908.0547\n",
      "Epoch [157/300], Loss: 43908.7266\n",
      "Epoch [158/300], Loss: 43909.6445\n"
     ]
    },
    {
     "name": "stderr",
     "output_type": "stream",
     "text": [
      "\r",
      " 53%|█████▎    | 160/300 [00:14<00:12, 11.24it/s]"
     ]
    },
    {
     "name": "stdout",
     "output_type": "stream",
     "text": [
      "Epoch [159/300], Loss: 43910.2695\n",
      "Epoch [160/300], Loss: 43907.7891\n",
      "Epoch [161/300], Loss: 43907.1328\n"
     ]
    },
    {
     "name": "stderr",
     "output_type": "stream",
     "text": [
      " 55%|█████▍    | 164/300 [00:14<00:12, 11.23it/s]"
     ]
    },
    {
     "name": "stdout",
     "output_type": "stream",
     "text": [
      "Epoch [162/300], Loss: 43906.0820\n",
      "Epoch [163/300], Loss: 43906.1016\n",
      "Epoch [164/300], Loss: 43907.3125\n"
     ]
    },
    {
     "name": "stderr",
     "output_type": "stream",
     "text": [
      "\r",
      " 55%|█████▌    | 166/300 [00:14<00:11, 11.23it/s]"
     ]
    },
    {
     "name": "stdout",
     "output_type": "stream",
     "text": [
      "Epoch [165/300], Loss: 43908.6406\n",
      "Epoch [166/300], Loss: 43910.0234\n",
      "Epoch [167/300], Loss: 43906.2773\n"
     ]
    },
    {
     "name": "stderr",
     "output_type": "stream",
     "text": [
      " 57%|█████▋    | 170/300 [00:15<00:11, 11.23it/s]"
     ]
    },
    {
     "name": "stdout",
     "output_type": "stream",
     "text": [
      "Epoch [168/300], Loss: 43905.7031\n",
      "Epoch [169/300], Loss: 43906.2422\n",
      "Epoch [170/300], Loss: 43906.4141\n"
     ]
    },
    {
     "name": "stderr",
     "output_type": "stream",
     "text": [
      "\r",
      " 57%|█████▋    | 172/300 [00:15<00:11, 11.24it/s]"
     ]
    },
    {
     "name": "stdout",
     "output_type": "stream",
     "text": [
      "Epoch [171/300], Loss: 43907.0391\n",
      "Epoch [172/300], Loss: 43905.7070\n",
      "Epoch [173/300], Loss: 43905.0469\n"
     ]
    },
    {
     "name": "stderr",
     "output_type": "stream",
     "text": [
      " 59%|█████▊    | 176/300 [00:15<00:11, 11.23it/s]"
     ]
    },
    {
     "name": "stdout",
     "output_type": "stream",
     "text": [
      "Epoch [174/300], Loss: 43904.5312\n",
      "Epoch [175/300], Loss: 43904.6172\n",
      "Epoch [176/300], Loss: 43904.2969\n"
     ]
    },
    {
     "name": "stderr",
     "output_type": "stream",
     "text": [
      "\r",
      " 59%|█████▉    | 178/300 [00:15<00:10, 11.23it/s]"
     ]
    },
    {
     "name": "stdout",
     "output_type": "stream",
     "text": [
      "Epoch [177/300], Loss: 43904.5078\n",
      "Epoch [178/300], Loss: 43906.5352\n",
      "Epoch [179/300], Loss: 43907.8359\n"
     ]
    },
    {
     "name": "stderr",
     "output_type": "stream",
     "text": [
      " 61%|██████    | 182/300 [00:16<00:10, 11.23it/s]"
     ]
    },
    {
     "name": "stdout",
     "output_type": "stream",
     "text": [
      "Epoch [180/300], Loss: 43907.6250\n",
      "Epoch [181/300], Loss: 43904.1875\n",
      "Epoch [182/300], Loss: 43904.0156\n"
     ]
    },
    {
     "name": "stderr",
     "output_type": "stream",
     "text": [
      "\r",
      " 61%|██████▏   | 184/300 [00:16<00:10, 11.23it/s]"
     ]
    },
    {
     "name": "stdout",
     "output_type": "stream",
     "text": [
      "Epoch [183/300], Loss: 43904.8594\n",
      "Epoch [184/300], Loss: 43904.9766\n",
      "Epoch [185/300], Loss: 43904.8867\n"
     ]
    },
    {
     "name": "stderr",
     "output_type": "stream",
     "text": [
      " 63%|██████▎   | 188/300 [00:16<00:09, 11.23it/s]"
     ]
    },
    {
     "name": "stdout",
     "output_type": "stream",
     "text": [
      "Epoch [186/300], Loss: 43903.3086\n",
      "Epoch [187/300], Loss: 43903.3516\n",
      "Epoch [188/300], Loss: 43903.0859\n"
     ]
    },
    {
     "name": "stderr",
     "output_type": "stream",
     "text": [
      "\r",
      " 63%|██████▎   | 190/300 [00:16<00:09, 11.23it/s]"
     ]
    },
    {
     "name": "stdout",
     "output_type": "stream",
     "text": [
      "Epoch [189/300], Loss: 43903.7734\n",
      "Epoch [190/300], Loss: 43904.6758\n",
      "Epoch [191/300], Loss: 43905.9219\n"
     ]
    },
    {
     "name": "stderr",
     "output_type": "stream",
     "text": [
      " 65%|██████▍   | 194/300 [00:17<00:09, 11.23it/s]"
     ]
    },
    {
     "name": "stdout",
     "output_type": "stream",
     "text": [
      "Epoch [192/300], Loss: 43906.1758\n",
      "Epoch [193/300], Loss: 43903.2461\n",
      "Epoch [194/300], Loss: 43902.8906\n"
     ]
    },
    {
     "name": "stderr",
     "output_type": "stream",
     "text": [
      "\r",
      " 65%|██████▌   | 196/300 [00:17<00:09, 11.23it/s]"
     ]
    },
    {
     "name": "stdout",
     "output_type": "stream",
     "text": [
      "Epoch [195/300], Loss: 43902.8086\n",
      "Epoch [196/300], Loss: 43903.5156\n",
      "Epoch [197/300], Loss: 43904.8164\n"
     ]
    },
    {
     "name": "stderr",
     "output_type": "stream",
     "text": [
      " 67%|██████▋   | 200/300 [00:17<00:08, 11.24it/s]"
     ]
    },
    {
     "name": "stdout",
     "output_type": "stream",
     "text": [
      "Epoch [198/300], Loss: 43904.0703\n",
      "Epoch [199/300], Loss: 43903.2734\n",
      "Epoch [200/300], Loss: 43902.2383\n"
     ]
    },
    {
     "name": "stderr",
     "output_type": "stream",
     "text": [
      "\r",
      " 67%|██████▋   | 202/300 [00:18<00:08, 11.24it/s]"
     ]
    },
    {
     "name": "stdout",
     "output_type": "stream",
     "text": [
      "Epoch [201/300], Loss: 43902.2812\n",
      "Epoch [202/300], Loss: 43902.2188\n",
      "Epoch [203/300], Loss: 43902.4609\n"
     ]
    },
    {
     "name": "stderr",
     "output_type": "stream",
     "text": [
      " 69%|██████▊   | 206/300 [00:18<00:08, 11.24it/s]"
     ]
    },
    {
     "name": "stdout",
     "output_type": "stream",
     "text": [
      "Epoch [204/300], Loss: 43902.9766\n",
      "Epoch [205/300], Loss: 43903.6641\n",
      "Epoch [206/300], Loss: 43904.7969\n"
     ]
    },
    {
     "name": "stderr",
     "output_type": "stream",
     "text": [
      "\r",
      " 69%|██████▉   | 208/300 [00:18<00:08, 11.24it/s]"
     ]
    },
    {
     "name": "stdout",
     "output_type": "stream",
     "text": [
      "Epoch [207/300], Loss: 43904.3359\n",
      "Epoch [208/300], Loss: 43903.9688\n",
      "Epoch [209/300], Loss: 43902.3086\n"
     ]
    },
    {
     "name": "stderr",
     "output_type": "stream",
     "text": [
      " 71%|███████   | 212/300 [00:18<00:07, 11.24it/s]"
     ]
    },
    {
     "name": "stdout",
     "output_type": "stream",
     "text": [
      "Epoch [210/300], Loss: 43901.9844\n",
      "Epoch [211/300], Loss: 43901.9961\n",
      "Epoch [212/300], Loss: 43902.1797\n"
     ]
    },
    {
     "name": "stderr",
     "output_type": "stream",
     "text": [
      "\r",
      " 71%|███████▏  | 214/300 [00:19<00:07, 11.23it/s]"
     ]
    },
    {
     "name": "stdout",
     "output_type": "stream",
     "text": [
      "Epoch [213/300], Loss: 43902.7539\n",
      "Epoch [214/300], Loss: 43903.1328\n",
      "Epoch [215/300], Loss: 43904.5625\n"
     ]
    },
    {
     "name": "stderr",
     "output_type": "stream",
     "text": [
      " 73%|███████▎  | 218/300 [00:19<00:07, 11.24it/s]"
     ]
    },
    {
     "name": "stdout",
     "output_type": "stream",
     "text": [
      "Epoch [216/300], Loss: 43903.8125\n",
      "Epoch [217/300], Loss: 43903.6172\n",
      "Epoch [218/300], Loss: 43901.7500\n"
     ]
    },
    {
     "name": "stderr",
     "output_type": "stream",
     "text": [
      "\r",
      " 73%|███████▎  | 220/300 [00:19<00:07, 11.23it/s]"
     ]
    },
    {
     "name": "stdout",
     "output_type": "stream",
     "text": [
      "Epoch [219/300], Loss: 43901.7891\n",
      "Epoch [220/300], Loss: 43901.9766\n",
      "Epoch [221/300], Loss: 43901.2422\n"
     ]
    },
    {
     "name": "stderr",
     "output_type": "stream",
     "text": [
      " 75%|███████▍  | 224/300 [00:20<00:06, 11.23it/s]"
     ]
    },
    {
     "name": "stdout",
     "output_type": "stream",
     "text": [
      "Epoch [222/300], Loss: 43901.4219\n",
      "Epoch [223/300], Loss: 43901.3203\n",
      "Epoch [224/300], Loss: 43901.2969\n"
     ]
    },
    {
     "name": "stderr",
     "output_type": "stream",
     "text": [
      "\r",
      " 75%|███████▌  | 226/300 [00:20<00:06, 11.22it/s]"
     ]
    },
    {
     "name": "stdout",
     "output_type": "stream",
     "text": [
      "Epoch [225/300], Loss: 43901.5898\n",
      "Epoch [226/300], Loss: 43902.2500\n",
      "Epoch [227/300], Loss: 43903.6875\n"
     ]
    },
    {
     "name": "stderr",
     "output_type": "stream",
     "text": [
      " 77%|███████▋  | 230/300 [00:20<00:06, 11.22it/s]"
     ]
    },
    {
     "name": "stdout",
     "output_type": "stream",
     "text": [
      "Epoch [228/300], Loss: 43906.2305\n",
      "Epoch [229/300], Loss: 43905.0938\n",
      "Epoch [230/300], Loss: 43903.0273\n"
     ]
    },
    {
     "name": "stderr",
     "output_type": "stream",
     "text": [
      "\r",
      " 77%|███████▋  | 232/300 [00:20<00:06, 11.23it/s]"
     ]
    },
    {
     "name": "stdout",
     "output_type": "stream",
     "text": [
      "Epoch [231/300], Loss: 43901.5977\n",
      "Epoch [232/300], Loss: 43902.9141\n",
      "Epoch [233/300], Loss: 43903.5039\n"
     ]
    },
    {
     "name": "stderr",
     "output_type": "stream",
     "text": [
      " 79%|███████▊  | 236/300 [00:21<00:05, 11.23it/s]"
     ]
    },
    {
     "name": "stdout",
     "output_type": "stream",
     "text": [
      "Epoch [234/300], Loss: 43901.9141\n",
      "Epoch [235/300], Loss: 43901.8750\n",
      "Epoch [236/300], Loss: 43901.7617\n"
     ]
    },
    {
     "name": "stderr",
     "output_type": "stream",
     "text": [
      "\r",
      " 79%|███████▉  | 238/300 [00:21<00:05, 11.23it/s]"
     ]
    },
    {
     "name": "stdout",
     "output_type": "stream",
     "text": [
      "Epoch [237/300], Loss: 43901.6719\n",
      "Epoch [238/300], Loss: 43902.5352\n",
      "Epoch [239/300], Loss: 43902.6641\n"
     ]
    },
    {
     "name": "stderr",
     "output_type": "stream",
     "text": [
      " 81%|████████  | 242/300 [00:21<00:05, 11.23it/s]"
     ]
    },
    {
     "name": "stdout",
     "output_type": "stream",
     "text": [
      "Epoch [240/300], Loss: 43903.2656\n",
      "Epoch [241/300], Loss: 43902.5156\n",
      "Epoch [242/300], Loss: 43902.3828\n"
     ]
    },
    {
     "name": "stderr",
     "output_type": "stream",
     "text": [
      "\r",
      " 81%|████████▏ | 244/300 [00:21<00:04, 11.23it/s]"
     ]
    },
    {
     "name": "stdout",
     "output_type": "stream",
     "text": [
      "Epoch [243/300], Loss: 43901.6484\n",
      "Epoch [244/300], Loss: 43901.1016\n",
      "Epoch [245/300], Loss: 43900.8398\n"
     ]
    },
    {
     "name": "stderr",
     "output_type": "stream",
     "text": [
      " 83%|████████▎ | 248/300 [00:22<00:04, 11.22it/s]"
     ]
    },
    {
     "name": "stdout",
     "output_type": "stream",
     "text": [
      "Epoch [246/300], Loss: 43900.9102\n",
      "Epoch [247/300], Loss: 43900.9102\n",
      "Epoch [248/300], Loss: 43900.6133\n"
     ]
    },
    {
     "name": "stderr",
     "output_type": "stream",
     "text": [
      "\r",
      " 83%|████████▎ | 250/300 [00:22<00:04, 11.21it/s]"
     ]
    },
    {
     "name": "stdout",
     "output_type": "stream",
     "text": [
      "Epoch [249/300], Loss: 43901.0625\n",
      "Epoch [250/300], Loss: 43902.2109\n",
      "Epoch [251/300], Loss: 43903.9023\n"
     ]
    },
    {
     "name": "stderr",
     "output_type": "stream",
     "text": [
      " 85%|████████▍ | 254/300 [00:22<00:04, 11.22it/s]"
     ]
    },
    {
     "name": "stdout",
     "output_type": "stream",
     "text": [
      "Epoch [252/300], Loss: 43906.7852\n",
      "Epoch [253/300], Loss: 43903.5430\n",
      "Epoch [254/300], Loss: 43901.6797\n"
     ]
    },
    {
     "name": "stderr",
     "output_type": "stream",
     "text": [
      "\r",
      " 85%|████████▌ | 256/300 [00:22<00:03, 11.22it/s]"
     ]
    },
    {
     "name": "stdout",
     "output_type": "stream",
     "text": [
      "Epoch [255/300], Loss: 43901.5156\n",
      "Epoch [256/300], Loss: 43902.5781\n",
      "Epoch [257/300], Loss: 43902.8438\n"
     ]
    },
    {
     "name": "stderr",
     "output_type": "stream",
     "text": [
      " 87%|████████▋ | 260/300 [00:23<00:03, 11.23it/s]"
     ]
    },
    {
     "name": "stdout",
     "output_type": "stream",
     "text": [
      "Epoch [258/300], Loss: 43901.4219\n",
      "Epoch [259/300], Loss: 43900.7812\n",
      "Epoch [260/300], Loss: 43900.9102\n"
     ]
    },
    {
     "name": "stderr",
     "output_type": "stream",
     "text": [
      "\r",
      " 87%|████████▋ | 262/300 [00:23<00:03, 11.23it/s]"
     ]
    },
    {
     "name": "stdout",
     "output_type": "stream",
     "text": [
      "Epoch [261/300], Loss: 43901.0977\n",
      "Epoch [262/300], Loss: 43901.8047\n",
      "Epoch [263/300], Loss: 43903.2656\n"
     ]
    },
    {
     "name": "stderr",
     "output_type": "stream",
     "text": [
      " 89%|████████▊ | 266/300 [00:23<00:03, 11.23it/s]"
     ]
    },
    {
     "name": "stdout",
     "output_type": "stream",
     "text": [
      "Epoch [264/300], Loss: 43904.5742\n",
      "Epoch [265/300], Loss: 43902.4375\n",
      "Epoch [266/300], Loss: 43901.3516\n"
     ]
    },
    {
     "name": "stderr",
     "output_type": "stream",
     "text": [
      "\r",
      " 89%|████████▉ | 268/300 [00:23<00:02, 11.24it/s]"
     ]
    },
    {
     "name": "stdout",
     "output_type": "stream",
     "text": [
      "Epoch [267/300], Loss: 43901.3828\n",
      "Epoch [268/300], Loss: 43901.3047\n",
      "Epoch [269/300], Loss: 43901.0469\n"
     ]
    },
    {
     "name": "stderr",
     "output_type": "stream",
     "text": [
      " 91%|█████████ | 272/300 [00:24<00:02, 11.24it/s]"
     ]
    },
    {
     "name": "stdout",
     "output_type": "stream",
     "text": [
      "Epoch [270/300], Loss: 43901.5508\n",
      "Epoch [271/300], Loss: 43902.1641\n",
      "Epoch [272/300], Loss: 43901.7656\n"
     ]
    },
    {
     "name": "stderr",
     "output_type": "stream",
     "text": [
      "\r",
      " 91%|█████████▏| 274/300 [00:24<00:02, 11.24it/s]"
     ]
    },
    {
     "name": "stdout",
     "output_type": "stream",
     "text": [
      "Epoch [273/300], Loss: 43902.5820\n",
      "Epoch [274/300], Loss: 43902.5078\n",
      "Epoch [275/300], Loss: 43902.2734\n"
     ]
    },
    {
     "name": "stderr",
     "output_type": "stream",
     "text": [
      " 93%|█████████▎| 278/300 [00:24<00:01, 11.24it/s]"
     ]
    },
    {
     "name": "stdout",
     "output_type": "stream",
     "text": [
      "Epoch [276/300], Loss: 43901.2031\n",
      "Epoch [277/300], Loss: 43901.2344\n",
      "Epoch [278/300], Loss: 43900.6094\n"
     ]
    },
    {
     "name": "stderr",
     "output_type": "stream",
     "text": [
      "\r",
      " 93%|█████████▎| 280/300 [00:24<00:01, 11.24it/s]"
     ]
    },
    {
     "name": "stdout",
     "output_type": "stream",
     "text": [
      "Epoch [279/300], Loss: 43900.6055\n",
      "Epoch [280/300], Loss: 43900.7031\n",
      "Epoch [281/300], Loss: 43900.7070\n"
     ]
    },
    {
     "name": "stderr",
     "output_type": "stream",
     "text": [
      " 95%|█████████▍| 284/300 [00:25<00:01, 11.25it/s]"
     ]
    },
    {
     "name": "stdout",
     "output_type": "stream",
     "text": [
      "Epoch [282/300], Loss: 43900.4375\n",
      "Epoch [283/300], Loss: 43900.9766\n",
      "Epoch [284/300], Loss: 43901.8633\n"
     ]
    },
    {
     "name": "stderr",
     "output_type": "stream",
     "text": [
      "\r",
      " 95%|█████████▌| 286/300 [00:25<00:01, 11.25it/s]"
     ]
    },
    {
     "name": "stdout",
     "output_type": "stream",
     "text": [
      "Epoch [285/300], Loss: 43903.6836\n",
      "Epoch [286/300], Loss: 43904.5156\n",
      "Epoch [287/300], Loss: 43904.6523\n"
     ]
    },
    {
     "name": "stderr",
     "output_type": "stream",
     "text": [
      " 97%|█████████▋| 290/300 [00:25<00:00, 11.26it/s]"
     ]
    },
    {
     "name": "stdout",
     "output_type": "stream",
     "text": [
      "Epoch [288/300], Loss: 43901.4648\n",
      "Epoch [289/300], Loss: 43901.4062\n",
      "Epoch [290/300], Loss: 43902.3438\n"
     ]
    },
    {
     "name": "stderr",
     "output_type": "stream",
     "text": [
      "\r",
      " 97%|█████████▋| 292/300 [00:26<00:00, 11.25it/s]"
     ]
    },
    {
     "name": "stdout",
     "output_type": "stream",
     "text": [
      "Epoch [291/300], Loss: 43902.1406\n",
      "Epoch [292/300], Loss: 43901.6445\n",
      "Epoch [293/300], Loss: 43900.7695\n"
     ]
    },
    {
     "name": "stderr",
     "output_type": "stream",
     "text": [
      " 99%|█████████▊| 296/300 [00:26<00:00, 11.24it/s]"
     ]
    },
    {
     "name": "stdout",
     "output_type": "stream",
     "text": [
      "Epoch [294/300], Loss: 43900.6719\n",
      "Epoch [295/300], Loss: 43900.9297\n",
      "Epoch [296/300], Loss: 43901.2031\n"
     ]
    },
    {
     "name": "stderr",
     "output_type": "stream",
     "text": [
      "\r",
      " 99%|█████████▉| 298/300 [00:26<00:00, 11.24it/s]"
     ]
    },
    {
     "name": "stdout",
     "output_type": "stream",
     "text": [
      "Epoch [297/300], Loss: 43901.5859\n",
      "Epoch [298/300], Loss: 43902.4609\n",
      "Epoch [299/300], Loss: 43903.4297\n"
     ]
    },
    {
     "name": "stderr",
     "output_type": "stream",
     "text": [
      "100%|██████████| 300/300 [00:26<00:00, 11.20it/s]\n"
     ]
    },
    {
     "name": "stdout",
     "output_type": "stream",
     "text": [
      "Epoch [300/300], Loss: 43903.1016\n"
     ]
    },
    {
     "data": {
      "text/plain": [
       "tensor([[ 1.8630e-03,  1.8988e-03, -1.3293e-03,  ...,  4.3269e-03,\n",
       "          7.2472e-04,  4.9227e-04],\n",
       "        [ 6.6027e-03, -5.8370e-03, -1.8313e-03,  ...,  1.1590e-04,\n",
       "         -5.2817e-04, -7.8654e-04],\n",
       "        [ 1.9816e-03, -9.5562e-03, -3.7453e-03,  ...,  1.8950e-03,\n",
       "          3.3220e-03, -8.2199e-04],\n",
       "        ...,\n",
       "        [ 3.8793e-03,  4.0349e-03, -3.2841e-03,  ..., -1.8888e-03,\n",
       "         -2.6456e-03, -2.8035e-03],\n",
       "        [ 2.0182e-03, -4.5171e-03, -1.0726e-03,  ..., -5.1795e-05,\n",
       "         -1.2877e-03,  1.7364e-03],\n",
       "        [ 1.2853e-03, -3.7967e-03,  2.1847e-03,  ...,  2.5730e-03,\n",
       "          2.9331e-03,  2.7268e-03]])"
      ]
     },
     "execution_count": 35,
     "metadata": {},
     "output_type": "execute_result"
    }
   ],
   "source": [
    "fit_plet(300, model, quadruplet_loss, opt, vec.to(device), #gquads\n",
    "               torch.tensor(a).to(device),\n",
    "               torch.tensor(b).to(device),\n",
    "               torch.tensor(c).to(device),\n",
    "               torch.tensor(d).to(device),\n",
    "               #batches = True\n",
    "          )"
   ]
  },
  {
   "cell_type": "code",
   "execution_count": 36,
   "metadata": {
    "scrolled": true
   },
   "outputs": [],
   "source": [
    "new_vec = model.inference(vec.to(device)).cpu()"
   ]
  },
  {
   "cell_type": "code",
   "execution_count": 37,
   "metadata": {},
   "outputs": [
    {
     "name": "stdout",
     "output_type": "stream",
     "text": [
      "CPU times: user 21.6 s, sys: 35.4 s, total: 57 s\n",
      "Wall time: 3.07 s\n"
     ]
    },
    {
     "data": {
      "text/plain": [
       "(249550, 295876)"
      ]
     },
     "execution_count": 37,
     "metadata": {},
     "output_type": "execute_result"
    }
   ],
   "source": [
    "%%time\n",
    "hand_checker(vec, goods_pool_indexed), hand_checker(new_vec, goods_pool_indexed)"
   ]
  },
  {
   "cell_type": "code",
   "execution_count": 38,
   "metadata": {
    "scrolled": true
   },
   "outputs": [
    {
     "name": "stdout",
     "output_type": "stream",
     "text": [
      "CPU times: user 1.29 s, sys: 32.9 ms, total: 1.33 s\n",
      "Wall time: 1.32 s\n"
     ]
    },
    {
     "data": {
      "text/plain": [
       "(249550, 295876)"
      ]
     },
     "execution_count": 38,
     "metadata": {},
     "output_type": "execute_result"
    }
   ],
   "source": [
    "%%time\n",
    "hand_checker(vec.to(device), goods_pool_indexed, True), hand_checker(new_vec.to(device), goods_pool_indexed, True)"
   ]
  },
  {
   "cell_type": "code",
   "execution_count": 42,
   "metadata": {},
   "outputs": [
    {
     "name": "stdout",
     "output_type": "stream",
     "text": [
      "0 1 0 2\n",
      "0.5745091736316681 0.5163394808769226\n",
      "3 4 3 5\n",
      "0.4406927227973938 0.5397063493728638\n",
      "6 7 6 8\n",
      "0.6040153205394745 0.4939696788787842\n",
      "9 10 9 11\n",
      "0.47912460565567017 0.5334681272506714\n",
      "12 13 12 14\n",
      "0.5495234131813049 0.6191833913326263\n",
      "15 16 15 17\n",
      "0.642069935798645 0.5361121892929077\n",
      "18 19 18 20\n",
      "0.5824757218360901 0.5085082948207855\n",
      "21 22 21 23\n",
      "0.46818089485168457 0.5100868344306946\n",
      "24 25 24 26\n",
      "0.49467164278030396 0.5781603455543518\n",
      "27 28 27 29\n",
      "0.589226245880127 0.495181679725647\n"
     ]
    }
   ],
   "source": [
    "t=0\n",
    "for quad in goods_pool_indexed:\n",
    "    a,b,c,d=quad\n",
    "\n",
    "    d_ij = cosine(new_vec[a], new_vec[b])\n",
    "    d_kl = cosine(new_vec[c], new_vec[d])\n",
    "\n",
    "    #if d_ij > d_kl:\n",
    "        #print(new_vec[a], new_vec[b], new_vec[c], new_vec[d])\n",
    "    print(a,b,c,d)\n",
    "    #print(new_vec[a], new_vec[b])\n",
    "    #print(new_vec[c], new_vec[d])\n",
    "    print(d_ij, d_kl)\n",
    "    t+=1\n",
    "    if t==10:\n",
    "        break"
   ]
  },
  {
   "cell_type": "code",
   "execution_count": null,
   "metadata": {},
   "outputs": [],
   "source": []
  }
 ],
 "metadata": {
  "kernelspec": {
   "display_name": "Python 3",
   "language": "python",
   "name": "python3"
  },
  "language_info": {
   "codemirror_mode": {
    "name": "ipython",
    "version": 3
   },
   "file_extension": ".py",
   "mimetype": "text/x-python",
   "name": "python",
   "nbconvert_exporter": "python",
   "pygments_lexer": "ipython3",
   "version": "3.6.9"
  }
 },
 "nbformat": 4,
 "nbformat_minor": 4
}
